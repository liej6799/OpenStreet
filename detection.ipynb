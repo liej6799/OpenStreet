{
 "cells": [
  {
   "cell_type": "code",
   "execution_count": 2,
   "metadata": {},
   "outputs": [],
   "source": [
    "#Read Data"
   ]
  },
  {
   "cell_type": "code",
   "execution_count": null,
   "metadata": {},
   "outputs": [],
   "source": [
    "# Library\n",
    "import numpy as np\n",
    "import cv2\n",
    "import matplotlib.pyplot as plt\n",
    "from sklearn import linear_model\n",
    "cv2.__version__"
   ]
  },
  {
   "cell_type": "code",
   "execution_count": null,
   "metadata": {},
   "outputs": [],
   "source": [
    "#General Settings\n",
    "folder = 'video-data/kitti/2011_09_26_drive_0001_extract/image_02/data/'\n",
    "image = '0000000100.png'"
   ]
  },
  {
   "cell_type": "code",
   "execution_count": null,
   "metadata": {},
   "outputs": [],
   "source": [
    "def getImage(): \n",
    "    img = cv2.imread(folder + image) # reads image 'opencv-logo.png' as grayscale    plt.imshow(img)\n",
    "    return img"
   ]
  },
  {
   "cell_type": "code",
   "execution_count": null,
   "metadata": {},
   "outputs": [],
   "source": [
    "def getGrayImage(): \n",
    "    # Convert to Grayscale\n",
    "    return cv2.cvtColor(getImage(), cv2.COLOR_BGR2GRAY) "
   ]
  },
  {
   "cell_type": "code",
   "execution_count": 10,
   "metadata": {},
   "outputs": [],
   "source": [
    "# Reshape Image\n",
    "def reshapeImage():\n",
    "    resized_image = cv2.resize(getGrayImage(), (750, 250)) "
   ]
  },
  {
   "cell_type": "code",
   "execution_count": 17,
   "metadata": {},
   "outputs": [],
   "source": [
    "def gaussianBlur():\n",
    "    return cv2.GaussianBlur(getGrayImage(),(5,5),0)"
   ]
  },
  {
   "cell_type": "code",
   "execution_count": 60,
   "metadata": {},
   "outputs": [],
   "source": [
    "def regionOfInterest(image):\n",
    "    height = image.shape[0]\n",
    "    triangle = np.array([[(0, height), (1000, height), (680, 200)]])\n",
    "    mask = np.zeros_like(image)\n",
    "    cv2.fillPoly(mask, triangle, 255)\n",
    "    return cv2.bitwise_and(image, mask)\n",
    "    #return mask"
   ]
  },
  {
   "cell_type": "code",
   "execution_count": 57,
   "metadata": {},
   "outputs": [],
   "source": [
    "def regionOfInterestOverlay(image):\n",
    "    height = image.shape[0]\n",
    "    triangle = np.array([[(0, height), (1000, height), (680, 200)]])\n",
    "    mask = np.zeros_like(image)\n",
    "    cv2.fillPoly(mask, triangle, 255)\n",
    "    return mask"
   ]
  },
  {
   "cell_type": "code",
   "execution_count": 14,
   "metadata": {},
   "outputs": [],
   "source": [
    "def displayLines(image, lines):\n",
    "    line_image = np.zeros_like(image)\n",
    "    if lines is not None:\n",
    "        for line in lines:\n",
    "            x1, y1, x2, y2 = line.reshape(4)\n",
    "            cv2.line(line_image, (x1, y1), (x2, y2), (255, 0, 0), 10)\n",
    "    return line_image   "
   ]
  },
  {
   "cell_type": "code",
   "execution_count": 83,
   "metadata": {},
   "outputs": [],
   "source": [
    "def undistortImage():\n",
    "    cv2.undistort(getGrayImage())"
   ]
  },
  {
   "cell_type": "code",
   "execution_count": 98,
   "metadata": {},
   "outputs": [],
   "source": [
    "def extract_lane(road_lines):\n",
    "    left_lane = []\n",
    "    right_lane = []\n",
    "    left_slope = []\n",
    "    right_slope = []\n",
    "\n",
    "    if road_lines is not None:\n",
    "        for x in range(0, len(road_lines)):\n",
    "            for x1,y1,x2,y2 in road_lines[x]:\n",
    "                slope = compute_slope(x1,y1,x2,y2)\n",
    "                if (slope < 0):\n",
    "                    left_lane.append(road_lines[x])\n",
    "                    left_slope.append(slope)\n",
    "                else:\n",
    "                    if (slope > 0):\n",
    "                        right_lane.append(road_lines[x])\n",
    "                        right_slope.append(slope)\n",
    "                \n",
    "    return left_lane, right_lane , left_slope, right_slope\n",
    "\n",
    "def compute_slope(x1,y1,x2,y2):\n",
    "    if x2!=x1:\n",
    "        return ((y2-y1)/(x2-x1))"
   ]
  },
  {
   "cell_type": "code",
   "execution_count": 107,
   "metadata": {},
   "outputs": [],
   "source": [
    "def split_append(left_lane, right_lane):\n",
    "    left_lane_sa = []\n",
    "    right_lane_sa = []\n",
    "    \n",
    "    for x in range(0, len(left_lane)):\n",
    "        for x1,y1,x2,y2 in left_lane[x]:\n",
    "            left_lane_sa.append([x1, y1])\n",
    "            left_lane_sa.append([x2, y2])\n",
    "\n",
    "    for y in range(0, len(right_lane)):\n",
    "        for x1,y1,x2,y2 in right_lane[y]:\n",
    "            right_lane_sa.append([x1,y1])\n",
    "            right_lane_sa.append([x2,y2])\n",
    "            \n",
    "    left_lane_sa = np.array(left_lane_sa)\n",
    "    right_lane_sa = np.array(right_lane_sa)\n",
    "    left_lane_sa,right_lane_sa = sort(left_lane_sa,right_lane_sa)\n",
    "    return left_lane_sa,right_lane_sa\n",
    "\n",
    "def sort(left_lane_sa,right_lane_sa):\n",
    "    left_lane_sa = left_lane_sa[np.argsort(left_lane_sa[:, 0])]\n",
    "    right_lane_sa = right_lane_sa[np.argsort(right_lane_sa[:, 0])]\n",
    "\n",
    "    return left_lane_sa, right_lane_sa"
   ]
  },
  {
   "cell_type": "code",
   "execution_count": 108,
   "metadata": {},
   "outputs": [],
   "source": [
    "def ransac_drawlane(left_lane_sa, right_lane_sa,frame):\n",
    "    left_lane_x = []\n",
    "    left_lane_y = []\n",
    "    right_lane_x = []\n",
    "    right_lane_y = []\n",
    "\n",
    "    for x1,y1 in left_lane_sa:\n",
    "        left_lane_x.append([x1])\n",
    "        left_lane_y.append([y1])\n",
    "\n",
    "    for x1,y1 in right_lane_sa:\n",
    "        right_lane_x.append([x1])\n",
    "        right_lane_y.append([y1])\n",
    "\n",
    "    left_ransac_x = np.array(left_lane_x)\n",
    "    left_ransac_y = np.array(left_lane_y)\n",
    "\n",
    "    right_ransac_x = np.array(right_lane_x)\n",
    "    right_ransac_y = np.array(right_lane_y)\n",
    "\n",
    "        \n",
    "    left_ransac = linear_model.RANSACRegressor(linear_model.LinearRegression())\n",
    "    #print(left_ransac_x,left_ransac_y,len(left_ransac_x),len(left_ransac_y), left_ransac_x.shape )\n",
    "    left_ransac.fit(left_ransac_x, left_ransac_y)\n",
    "    slope_left = left_ransac.estimator_.coef_\n",
    "    intercept_left = left_ransac.estimator_.intercept_\n",
    "\n",
    "    right_ransac = linear_model.RANSACRegressor()\n",
    "    right_ransac.fit(right_ransac_x, right_ransac_y)\n",
    "    slope_right = right_ransac.estimator_.coef_\n",
    "    intercept_right = right_ransac.estimator_.intercept_\n",
    "\n",
    "    ysize = frame.shape[0]\n",
    "    xsize = frame.shape[1]\n",
    "    y_limit_low = int(0.95*ysize)\n",
    "    y_limit_high = int(0.65*ysize)\n",
    "\n",
    "    #Coordinates for point 1(Bottom Left)\n",
    "    y_1 = ysize\n",
    "    x_1 = int((y_1-intercept_left)/slope_left)\n",
    "\n",
    "    #Coordinates for point 2(Bottom Left)\n",
    "    y_2 = y_limit_high\n",
    "    x_2 = int((y_2-intercept_left)/slope_left)\n",
    "\n",
    "    #Coordinates for point 3(Bottom Left)\n",
    "    y_3 = y_limit_high\n",
    "    x_3 = int((y_3-intercept_right)/slope_right)\n",
    "    \n",
    "    #Coordinates for point 4(Bottom Right)\n",
    "    y_4 = ysize\n",
    "    x_4 = int((y_4-intercept_right)/slope_right)\n",
    "\n",
    "    cv2.line(frame,(x_1,y_1),(x_2,y_2),(0,255,255),3)\n",
    "    cv2.line(frame,(x_3,y_3),(x_4,y_4),(0,255,255),3)\n",
    "    pts = np.array([[x_1, y_1], [x_2, y_2], [x_3, y_3], [x_4, y_4]])\n",
    "    mask_color = (255,255,0)\n",
    "    frame_copy = frame.copy()\n",
    "    cv2.fillPoly(frame_copy, np.int32([pts]), mask_color)\n",
    "    opacity = 0.4\n",
    "    cv2.addWeighted(frame_copy,opacity,frame,1-opacity,0,frame)\n",
    "    return frame\n",
    "      "
   ]
  },
  {
   "cell_type": "code",
   "execution_count": null,
   "metadata": {},
   "outputs": [],
   "source": [
    "# Step 1. Cut the ROI\n",
    "roi_image = (regionOfInterest(getImage())) \n",
    "imgHLS = cv2.cvtColor(roi_image, cv2.COLOR_BGR2HLS)\n",
    "canny_image = cv2.Canny(imgHLS,100,200)\n",
    "\n",
    "\n",
    "\n",
    "lines = cv2.HoughLinesP(canny_image, 1, np.pi/180, 50, maxLineGap=50)\n",
    "left_lane, right_lane, left_slope, right_slope = extract_lane(lines)\n",
    "left_lane_sa, right_lane_sa = split_append(left_lane, right_lane)\n",
    "image_np = ransac_drawlane(left_lane_sa, right_lane_sa,getImage())\n",
    "\n",
    "plt.imshow(image_np)"
   ]
  },
  {
   "cell_type": "code",
   "execution_count": null,
   "metadata": {},
   "outputs": [],
   "source": [
    "plt.imshow(getImage())"
   ]
  },
  {
   "cell_type": "code",
   "execution_count": null,
   "metadata": {},
   "outputs": [],
   "source": []
  }
 ],
 "metadata": {
  "kernelspec": {
   "display_name": "venv",
   "language": "python",
   "name": "venv"
  },
  "language_info": {
   "codemirror_mode": {
    "name": "ipython",
    "version": 3
   },
   "file_extension": ".py",
   "mimetype": "text/x-python",
   "name": "python",
   "nbconvert_exporter": "python",
   "pygments_lexer": "ipython3",
   "version": "3.6.9"
  }
 },
 "nbformat": 4,
 "nbformat_minor": 4
}
